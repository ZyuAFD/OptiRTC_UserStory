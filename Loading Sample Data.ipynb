{
 "cells": [
  {
   "cell_type": "markdown",
   "metadata": {},
   "source": [
    "## Loading Sample Data for Aggregation Process\n",
    "\n",
    "\n",
    "### Packages required for analysis\n"
   ]
  },
  {
   "cell_type": "code",
   "execution_count": null,
   "metadata": {},
   "outputs": [],
   "source": [
    "library(tidyverse)\n",
    "library(data.table)\n",
    "library(knitr)\n",
    "library(kableExtra)\n",
    "library(magrittr)\n",
    "library(lubridate)\n",
    "library(units)"
   ]
  },
  {
   "cell_type": "markdown",
   "metadata": {},
   "source": [
    "### Loading sample data\n",
    "The sample data used for demonstrating the methods in this book is monitored at a green roof located in UWM Golda Meir library in Milwaukee, WI. It includes meastures:\n",
    "\n",
    "- **time** (yyyy-mm-dd HH:MM:SS) in UTC time zone\n",
    "- **instant rain intensity** in inches for each time step\n",
    "- **temperature** in F \n",
    "- **estimated soil moisture** in water volume content from four sensors in different locations \n",
    "- **overall estimated soil moisture** in water volume content for the whole site"
   ]
  },
  {
   "cell_type": "code",
   "execution_count": 3,
   "metadata": {},
   "outputs": [
    {
     "data": {
      "text/plain": [
       "\n",
       "\n",
       "|Time                | Inst_Rain|       Temp| Est_North_SoilM| Est_NorthCtr_SoilM| Est_SouthCtr_SoilM| Est_South_SoilM|   Est_SoilM|\n",
       "|:-------------------|---------:|----------:|---------------:|------------------:|------------------:|---------------:|-----------:|\n",
       "|2015-12-03 15:34:15 |   NA inch|    NA degF|            NA %|        0.1686572 %|               NA %|            NA %|        NA %|\n",
       "|2015-12-03 15:34:01 |    0 inch| 34.71 degF|            NA %|               NA %|               NA %|            NA %| 0.1461247 %|\n",
       "|2015-12-03 15:32:38 |   NA inch|    NA degF|     0.1674684 %|               NA %|               NA %|            NA %|        NA %|\n",
       "|2015-12-03 15:32:34 |   NA inch|    NA degF|            NA %|               NA %|               NA %|     0.1581217 %|        NA %|\n",
       "|2015-12-03 15:30:54 |   NA inch|    NA degF|            NA %|               NA %|       0.09027866 %|            NA %|        NA %|\n",
       "|2015-12-03 15:29:15 |   NA inch|    NA degF|            NA %|        0.1686302 %|               NA %|            NA %|        NA %|"
      ]
     },
     "metadata": {},
     "output_type": "display_data"
    }
   ],
   "source": [
    "\n",
    "filepath='https://github.com/ZyuAFD/OptiRTC_UserStory/raw/master/Sample%20Data/gold-meir-2017-feb-download.csv'\n",
    "\n",
    "GoldaMeir_Dt=fread(filepath,\n",
    "                           col.names=c('Time',\n",
    "                                       'Inst_Rain',\n",
    "                                       'Temp',\n",
    "                                       'Est_North_SoilM',\n",
    "                                       'Est_NorthCtr_SoilM',\n",
    "                                       'Est_SouthCtr_SoilM',\n",
    "                                       'Est_South_SoilM',\n",
    "                                       'Est_SoilM')) %>% \n",
    "    # Convert time information from character to time type using \"lubridate\" package\n",
    "    mutate(Time=ymd_hms(Time,tz=\"UTC\")) %>% \n",
    "    #Assign unit information to each data stream\n",
    "    mutate(Inst_Rain=Inst_Rain * make_unit(\"inch\"),\n",
    "            Temp=Temp * make_unit(\"degF\"),\n",
    "            Est_North_SoilM=Est_North_SoilM * make_unit(\"%\"),\n",
    "            Est_NorthCtr_SoilM=Est_NorthCtr_SoilM * make_unit(\"%\"),\n",
    "            Est_SouthCtr_SoilM=Est_SouthCtr_SoilM * make_unit(\"%\"),\n",
    "            Est_South_SoilM=Est_South_SoilM * make_unit(\"%\"),\n",
    "            Est_SoilM=Est_SoilM * make_unit(\"%\")) \n",
    "    \n",
    "GoldaMeir_Dt %>% head %>% kable"
   ]
  },
  {
   "cell_type": "code",
   "execution_count": null,
   "metadata": {
    "collapsed": true
   },
   "outputs": [],
   "source": []
  }
 ],
 "metadata": {
  "kernelspec": {
   "display_name": "R",
   "language": "R",
   "name": "ir"
  },
  "language_info": {
   "codemirror_mode": "r",
   "file_extension": ".r",
   "mimetype": "text/x-r-source",
   "name": "R",
   "pygments_lexer": "r",
   "version": "3.4.3"
  }
 },
 "nbformat": 4,
 "nbformat_minor": 2
}
