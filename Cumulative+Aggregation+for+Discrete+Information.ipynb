{
 "cells": [
  {
   "cell_type": "markdown",
   "metadata": {},
   "source": [
    "## Cumulative Aggregation for Discrete Information\n",
    "\n",
    "Agregation process on discete information will be described here using rain data. 5 minutes time interval will be used for curating the timestamps.  \n",
    "\n",
    "#### Loading Sample Data"
   ]
  },
  {
   "cell_type": "code",
   "execution_count": null,
   "metadata": {},
   "outputs": [],
   "source": [
    "library(devtools)\n",
    "source_url(\"https://raw.githubusercontent.com/OptiRTC/export-analysis/ZyuAFD-patch-1/Data/Loading%20Sample%20Data.R?token=AKLn5qtCQw2wdWyFj7-K_iBfF_SC7qI1ks5acIeYwA%3D%3D\")"
   ]
  },
  {
   "cell_type": "markdown",
   "metadata": {},
   "source": [
    "#### This code is a sample of aggregation of rain gauge data on sample data. \n",
    "\n",
    "- The data quality is first checked of the duplicated time step for rain data"
   ]
  },
  {
   "cell_type": "code",
   "execution_count": 3,
   "metadata": {},
   "outputs": [
    {
     "data": {
      "text/plain": [
       "\n",
       "\n",
       "|Time                | Inst_Rain|\n",
       "|:-------------------|---------:|\n",
       "|2015-12-03 15:34:01 |    0 inch|\n",
       "|2015-12-03 15:29:01 |    0 inch|\n",
       "|2015-12-03 15:24:01 |    0 inch|\n",
       "|2015-12-03 15:19:01 |    0 inch|\n",
       "|2015-12-03 15:14:01 |    0 inch|\n",
       "|2015-12-03 15:09:01 |    0 inch|\n",
       "|2015-12-03 15:04:01 |    0 inch|\n",
       "|2015-12-03 14:59:01 |    0 inch|\n",
       "|2015-12-03 14:54:01 |    0 inch|\n",
       "|2015-12-03 14:49:01 |    0 inch|"
      ]
     },
     "metadata": {},
     "output_type": "display_data"
    },
    {
     "data": {
      "text/plain": [
       "\n",
       "\n",
       "|Time |  n|\n",
       "|:----|--:|"
      ]
     },
     "metadata": {},
     "output_type": "display_data"
    }
   ],
   "source": [
    "\n",
    "# Extract Rain information for analysis\n",
    "Rain_dt=GoldaMeir_Dt %>% select(Time,Inst_Rain) %>% filter(!is.na(Inst_Rain))\n",
    "\n",
    "Rain_dt %>% head(10)%>% kable\n",
    "\n",
    "# Check duplicate time step\n",
    "\n",
    "Rain_dt %>% \n",
    "    group_by(Time) %>% \n",
    "    tally %>% \n",
    "    filter(n>1) %>% \n",
    "    arrange(-n) %>% \n",
    "    kable"
   ]
  },
  {
   "cell_type": "markdown",
   "metadata": {},
   "source": [
    "- Time steps are then rounded up to a time interval value of 5 minutes ( This string has to be among the built-in strings for \"unit\" parameter in [lubridate::round_date](https://github.com/tidyverse/lubridate/blob/master/R/round.r) function). In this case, [lubridate::floordate](https://github.com/tidyverse/lubridate/blob/master/R/round.r) is used since rain gauge data is a cumulative value aggregated down to its nearest round time point.\n",
    "- Check the duplicated time interval and aggregate the rain data upon it"
   ]
  },
  {
   "cell_type": "code",
   "execution_count": 4,
   "metadata": {},
   "outputs": [
    {
     "data": {
      "text/plain": [
       "\n",
       "\n",
       "|Time                | Inst_Rain|Time_rnd            |\n",
       "|:-------------------|---------:|:-------------------|\n",
       "|2015-12-03 15:34:01 |    0 inch|2015-12-03 15:30:00 |\n",
       "|2015-12-03 15:29:01 |    0 inch|2015-12-03 15:25:00 |\n",
       "|2015-12-03 15:24:01 |    0 inch|2015-12-03 15:20:00 |\n",
       "|2015-12-03 15:19:01 |    0 inch|2015-12-03 15:15:00 |\n",
       "|2015-12-03 15:14:01 |    0 inch|2015-12-03 15:10:00 |\n",
       "|2015-12-03 15:09:01 |    0 inch|2015-12-03 15:05:00 |"
      ]
     },
     "metadata": {},
     "output_type": "display_data"
    },
    {
     "data": {
      "text/plain": [
       "\n",
       "\n",
       "|Time_rnd |  n|\n",
       "|:--------|--:|"
      ]
     },
     "metadata": {},
     "output_type": "display_data"
    },
    {
     "data": {
      "text/plain": [
       "\n",
       "\n",
       "|Time_rnd            | Inst_Rain|\n",
       "|:-------------------|---------:|\n",
       "|2015-08-21 19:30:00 |    0 inch|\n",
       "|2015-08-21 19:35:00 |    0 inch|\n",
       "|2015-08-21 19:40:00 |    0 inch|\n",
       "|2015-08-21 19:45:00 |    0 inch|\n",
       "|2015-08-21 19:50:00 |    0 inch|\n",
       "|2015-08-21 19:55:00 |    0 inch|\n",
       "|2015-08-21 20:00:00 |    0 inch|\n",
       "|2015-08-21 20:05:00 |    0 inch|\n",
       "|2015-08-21 20:10:00 |    0 inch|\n",
       "|2015-08-21 20:15:00 |    0 inch|"
      ]
     },
     "metadata": {},
     "output_type": "display_data"
    }
   ],
   "source": [
    "\n",
    "Time_Intv= \"5 mins\" # constant of time interval in lubridate::round_date function\n",
    "\n",
    "# Round time into specified time interval\n",
    "Rain_dt %<>% \n",
    "    mutate(Time_rnd=lubridate::floor_date(Time,Time_Intv))\n",
    "\n",
    "Rain_dt %>% head%>% kable\n",
    "\n",
    "# Check duplicate time on rounded time \n",
    "Rain_dt %>% \n",
    "    group_by(Time_rnd) %>% \n",
    "    tally %>% \n",
    "    filter(n>1) %>% \n",
    "    arrange(-n)  %>% \n",
    "    head %>% \n",
    "    kable\n",
    "\n",
    "# Aggregate the rain amount \n",
    "Rain_dt %<>% \n",
    "    group_by(Time_rnd) %>% \n",
    "    summarise(Inst_Rain=sum(Inst_Rain))\n",
    "\n",
    "Rain_dt %>% head(10)%>% kable"
   ]
  },
  {
   "cell_type": "markdown",
   "metadata": {},
   "source": [
    "- Check the data gaps in the aggregated data"
   ]
  },
  {
   "cell_type": "code",
   "execution_count": 5,
   "metadata": {},
   "outputs": [
    {
     "data": {
      "text/plain": [
       "\n",
       "\n",
       "|x       |\n",
       "|:-------|\n",
       "|No Gaps |"
      ]
     },
     "metadata": {},
     "output_type": "display_data"
    }
   ],
   "source": [
    "\n",
    "FindGaps=function(Dt,Tm_intv)\n",
    "    #Dt dataframe with time column\n",
    "    #Tm_intv: min gap, use time interval here\n",
    "{\n",
    "    Dt %>% \n",
    "        arrange(Time) %>% \n",
    "        mutate(lagT=lag(Time)) %>% \n",
    "        filter(as.period(interval(lagT,Time))>period(Tm_intv))->gaps\n",
    "    \n",
    "    if (nrow(gaps)==0) return(\"No Gaps\")\n",
    "    \n",
    "    gaps %>% \n",
    "        mutate(Time_interval=interval(lagT,Time)) %>% \n",
    "        select(Time_interval) %>% \n",
    "        mutate(Period=as.period(Time_interval)) %>% \n",
    "        return\n",
    "}\n",
    "\n",
    "Rain_dt %>% \n",
    "    rename(Time=Time_rnd) %>% \n",
    "    FindGaps(Tm_intv=Time_Intv) %>% \n",
    "    kable"
   ]
  },
  {
   "cell_type": "markdown",
   "metadata": {},
   "source": [
    "If there have some gaps, the result data should be join to or filled with missing time stamps to obtain a complete data."
   ]
  },
  {
   "cell_type": "code",
   "execution_count": 8,
   "metadata": {},
   "outputs": [
    {
     "data": {
      "text/plain": [
       "\n",
       "\n",
       "|                                    Time_interval| Period|\n",
       "|------------------------------------------------:|------:|\n",
       "| 2015-08-31 23:55:00 UTC--2015-09-01 00:25:00 UTC| 30M 0S|"
      ]
     },
     "metadata": {},
     "output_type": "display_data"
    },
    {
     "name": "stderr",
     "output_type": "stream",
     "text": [
      "pad applied on the interval: 5 min\n",
      "Warning message in bind_rows_(x, .id):\n",
      "\"Vectorizing 'units' elements may not preserve their attributes\""
     ]
    },
    {
     "data": {
      "text/html": [
       "<table>\n",
       "<thead><tr><th scope=col>Time_rnd</th><th scope=col>Inst_Rain</th></tr></thead>\n",
       "<tbody>\n",
       "\t<tr><td>2015-09-01 00:00:00</td><td>NA                 </td></tr>\n",
       "\t<tr><td>2015-09-01 00:05:00</td><td>NA                 </td></tr>\n",
       "\t<tr><td>2015-09-01 00:10:00</td><td>NA                 </td></tr>\n",
       "\t<tr><td>2015-09-01 00:15:00</td><td>NA                 </td></tr>\n",
       "\t<tr><td>2015-09-01 00:20:00</td><td>NA                 </td></tr>\n",
       "\t<tr><td>2015-09-01 00:25:00</td><td> 0                 </td></tr>\n",
       "\t<tr><td>2015-09-01 00:30:00</td><td> 0                 </td></tr>\n",
       "\t<tr><td>2015-09-01 00:35:00</td><td> 0                 </td></tr>\n",
       "\t<tr><td>2015-09-01 00:40:00</td><td> 0                 </td></tr>\n",
       "\t<tr><td>2015-09-01 00:45:00</td><td> 0                 </td></tr>\n",
       "\t<tr><td>2015-09-01 00:50:00</td><td> 0                 </td></tr>\n",
       "\t<tr><td>2015-09-01 00:55:00</td><td> 0                 </td></tr>\n",
       "\t<tr><td>2015-09-01 01:00:00</td><td> 0                 </td></tr>\n",
       "\t<tr><td>2015-09-01 01:05:00</td><td> 0                 </td></tr>\n",
       "\t<tr><td>2015-09-01 01:10:00</td><td> 0                 </td></tr>\n",
       "\t<tr><td>2015-09-01 01:15:00</td><td> 0                 </td></tr>\n",
       "\t<tr><td>2015-09-01 01:20:00</td><td> 0                 </td></tr>\n",
       "\t<tr><td>2015-09-01 01:25:00</td><td> 0                 </td></tr>\n",
       "\t<tr><td>2015-09-01 01:30:00</td><td> 0                 </td></tr>\n",
       "\t<tr><td>2015-09-01 01:35:00</td><td> 0                 </td></tr>\n",
       "</tbody>\n",
       "</table>\n"
      ],
      "text/latex": [
       "\\begin{tabular}{r|ll}\n",
       " Time\\_rnd & Inst\\_Rain\\\\\n",
       "\\hline\n",
       "\t 2015-09-01 00:00:00 & NA                 \\\\\n",
       "\t 2015-09-01 00:05:00 & NA                 \\\\\n",
       "\t 2015-09-01 00:10:00 & NA                 \\\\\n",
       "\t 2015-09-01 00:15:00 & NA                 \\\\\n",
       "\t 2015-09-01 00:20:00 & NA                 \\\\\n",
       "\t 2015-09-01 00:25:00 &  0                 \\\\\n",
       "\t 2015-09-01 00:30:00 &  0                 \\\\\n",
       "\t 2015-09-01 00:35:00 &  0                 \\\\\n",
       "\t 2015-09-01 00:40:00 &  0                 \\\\\n",
       "\t 2015-09-01 00:45:00 &  0                 \\\\\n",
       "\t 2015-09-01 00:50:00 &  0                 \\\\\n",
       "\t 2015-09-01 00:55:00 &  0                 \\\\\n",
       "\t 2015-09-01 01:00:00 &  0                 \\\\\n",
       "\t 2015-09-01 01:05:00 &  0                 \\\\\n",
       "\t 2015-09-01 01:10:00 &  0                 \\\\\n",
       "\t 2015-09-01 01:15:00 &  0                 \\\\\n",
       "\t 2015-09-01 01:20:00 &  0                 \\\\\n",
       "\t 2015-09-01 01:25:00 &  0                 \\\\\n",
       "\t 2015-09-01 01:30:00 &  0                 \\\\\n",
       "\t 2015-09-01 01:35:00 &  0                 \\\\\n",
       "\\end{tabular}\n"
      ],
      "text/markdown": [
       "\n",
       "Time_rnd | Inst_Rain | \n",
       "|---|---|---|---|---|---|---|---|---|---|---|---|---|---|---|---|---|---|---|---|\n",
       "| 2015-09-01 00:00:00 | NA                  | \n",
       "| 2015-09-01 00:05:00 | NA                  | \n",
       "| 2015-09-01 00:10:00 | NA                  | \n",
       "| 2015-09-01 00:15:00 | NA                  | \n",
       "| 2015-09-01 00:20:00 | NA                  | \n",
       "| 2015-09-01 00:25:00 |  0                  | \n",
       "| 2015-09-01 00:30:00 |  0                  | \n",
       "| 2015-09-01 00:35:00 |  0                  | \n",
       "| 2015-09-01 00:40:00 |  0                  | \n",
       "| 2015-09-01 00:45:00 |  0                  | \n",
       "| 2015-09-01 00:50:00 |  0                  | \n",
       "| 2015-09-01 00:55:00 |  0                  | \n",
       "| 2015-09-01 01:00:00 |  0                  | \n",
       "| 2015-09-01 01:05:00 |  0                  | \n",
       "| 2015-09-01 01:10:00 |  0                  | \n",
       "| 2015-09-01 01:15:00 |  0                  | \n",
       "| 2015-09-01 01:20:00 |  0                  | \n",
       "| 2015-09-01 01:25:00 |  0                  | \n",
       "| 2015-09-01 01:30:00 |  0                  | \n",
       "| 2015-09-01 01:35:00 |  0                  | \n",
       "\n",
       "\n"
      ],
      "text/plain": [
       "   Time_rnd            Inst_Rain\n",
       "1  2015-09-01 00:00:00 NA       \n",
       "2  2015-09-01 00:05:00 NA       \n",
       "3  2015-09-01 00:10:00 NA       \n",
       "4  2015-09-01 00:15:00 NA       \n",
       "5  2015-09-01 00:20:00 NA       \n",
       "6  2015-09-01 00:25:00  0       \n",
       "7  2015-09-01 00:30:00  0       \n",
       "8  2015-09-01 00:35:00  0       \n",
       "9  2015-09-01 00:40:00  0       \n",
       "10 2015-09-01 00:45:00  0       \n",
       "11 2015-09-01 00:50:00  0       \n",
       "12 2015-09-01 00:55:00  0       \n",
       "13 2015-09-01 01:00:00  0       \n",
       "14 2015-09-01 01:05:00  0       \n",
       "15 2015-09-01 01:10:00  0       \n",
       "16 2015-09-01 01:15:00  0       \n",
       "17 2015-09-01 01:20:00  0       \n",
       "18 2015-09-01 01:25:00  0       \n",
       "19 2015-09-01 01:30:00  0       \n",
       "20 2015-09-01 01:35:00  0       "
      ]
     },
     "metadata": {},
     "output_type": "display_data"
    }
   ],
   "source": [
    "# add a gap to data\n",
    "Rain_dt %<>% \n",
    "    filter(!data.table::between(Time_rnd, ymd('2015-09-01'),ymd_hm('2015-09-01 0:20')))\n",
    "           \n",
    "Rain_dt %>% \n",
    "    rename(Time=Time_rnd) %>% \n",
    "    FindGaps(Tm_intv=Time_Intv) %>% \n",
    "    kable\n",
    "\n",
    "# make complete time stamp dataset\n",
    "library(padr)\n",
    "Rain_dt %<>% pad\n",
    "\n",
    "Rain_dt %>% \n",
    "    filter(data.table::between(Time_rnd, ymd('2015-09-01'),ymd('2015-09-02'))) %>% \n",
    "    head(20)"
   ]
  }
 ],
 "metadata": {
  "kernelspec": {
   "display_name": "R",
   "language": "R",
   "name": "ir"
  },
  "language_info": {
   "codemirror_mode": "r",
   "file_extension": ".r",
   "mimetype": "text/x-r-source",
   "name": "R",
   "pygments_lexer": "r",
   "version": "3.4.3"
  }
 },
 "nbformat": 4,
 "nbformat_minor": 2
}
